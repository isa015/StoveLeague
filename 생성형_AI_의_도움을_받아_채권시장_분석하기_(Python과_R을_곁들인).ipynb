{
  "nbformat": 4,
  "nbformat_minor": 0,
  "metadata": {
    "colab": {
      "provenance": [],
      "authorship_tag": "ABX9TyNRqYl5kJzNntPxqBzT35Zv",
      "include_colab_link": true
    },
    "kernelspec": {
      "name": "python3",
      "display_name": "Python 3"
    },
    "language_info": {
      "name": "python"
    }
  },
  "cells": [
    {
      "cell_type": "markdown",
      "metadata": {
        "id": "view-in-github",
        "colab_type": "text"
      },
      "source": [
        "<a href=\"https://colab.research.google.com/github/isa015/StoveLeague/blob/AI-%EB%8F%84%EC%9B%80%EC%9D%84-%EB%B0%9B%EC%95%84-%EC%B1%84%EA%B6%8C%EC%8B%9C%EC%9E%A5-%EB%B6%84%EC%84%9D%ED%95%98%EA%B8%B0-(Python%EA%B3%BC-R%EC%9D%84-%EA%B3%81%EB%93%A4%EC%9D%B8)/%EC%83%9D%EC%84%B1%ED%98%95_AI_%EC%9D%98_%EB%8F%84%EC%9B%80%EC%9D%84_%EB%B0%9B%EC%95%84_%EC%B1%84%EA%B6%8C%EC%8B%9C%EC%9E%A5_%EB%B6%84%EC%84%9D%ED%95%98%EA%B8%B0_(Python%EA%B3%BC_R%EC%9D%84_%EA%B3%81%EB%93%A4%EC%9D%B8).ipynb\" target=\"_parent\"><img src=\"https://colab.research.google.com/assets/colab-badge.svg\" alt=\"Open In Colab\"/></a>"
      ]
    },
    {
      "cell_type": "markdown",
      "source": [
        "# **강의 개요**"
      ],
      "metadata": {
        "id": "YpBwZ7wMuEdW"
      }
    },
    {
      "cell_type": "markdown",
      "source": [
        "##1. Data 분석을 위한 Python (1일)\n",
        "*\tPython 기초 문법\n",
        "*\tPython Data 분석\n",
        "*\tVS Code 사용법\n",
        "*\tJupyter notebook 사용법"
      ],
      "metadata": {
        "id": "On-yy9L3txkl"
      }
    },
    {
      "cell_type": "markdown",
      "source": [
        "## 2. GitHub Copilot : Coding 도우미 AI (1일)\n",
        "*\t사용 사례 : VS Code 에서의 사용 사례\n",
        "*\t설치\n"
      ],
      "metadata": {
        "id": "GqM-GUl9vA9R"
      }
    },
    {
      "cell_type": "markdown",
      "source": [
        "## 3. 채권 ABC (2일)\n",
        "*\t금리부 상품 : 예금, 채권, 자금시장 상품(CD, CP, Repo 등)\n",
        "*\t이자 : 단리와 복리 / 이자기산(compounding) 주기 / 할인\n",
        "* 변동금리채권 (FRN)\n",
        ">: 이자율 스왑 (IRS)\n",
        "* 채권 전문가 vs. 비전문가\n",
        ">: 채권시장 상황을, 금리가 아닌 채권 가격으로 환산하여 분석하는 법을 안다  \n",
        ": 채권 금리와 채권 가격간의 관계는 함수 관계가 아니라는 점을 이해한다\n",
        "\n",
        "- 금융 맥락에서의 Risk : 예상되는 성과에서 벗어나는 결과가 나타날 가능성에 대한 지표\n",
        "> [Risk 비교 예시]  \n",
        "2층에서 뛰어내릴 때의 사망 Risk < 4층에서 뛰어내릴 때  \n",
        "4층에서 뛰어내릴 때의 사망 Risk  > 63층에서 뛰어내릴 때\n"
      ],
      "metadata": {
        "id": "Za-nH_8PvRlc"
      }
    },
    {
      "cell_type": "markdown",
      "source": [
        "# 4. 채권시장 분석 Tool (2일)"
      ],
      "metadata": {
        "id": "wuvbRP2Hs66G"
      }
    },
    {
      "cell_type": "markdown",
      "source": [
        "## 4.1 금리 수준에 대한 평가\n",
        "> 무엇과 비교해서 ? : Spread 분석  \n",
        ">> Term Spread : 기준금리, 만기별 금리  \n",
        ">> Credit Spread : 신용위험    \n",
        ">> 이종 금리자산간 Spread : Bond Swap Spread  \n",
        ">> 외국 금리 대비 Spread : Swap Point / Basisi Swap  \n",
        ">> 다른 자산 기대수익율 : Equtiy Earnings Yield\n",
        "\n",
        "\n",
        "## 4.2 미래 예측\n",
        "> 금리 상황에 대한 분석 : 왜 때문에 요모양 요꼴이에요 ?\n",
        ">>: 수익률 곡선 분석\n",
        ">>: Level, Slope, Curverture  \n",
        ">>> * 주성분분석(Principla Component Analysis)"
      ],
      "metadata": {
        "id": "zbiM0QZd4H4v"
      }
    },
    {
      "cell_type": "markdown",
      "source": [
        "#5.사례를 통한 채권시장 분석"
      ],
      "metadata": {
        "id": "hzp9OY7NvrdT"
      }
    },
    {
      "cell_type": "markdown",
      "source": [
        "###5.1 제로 금리 일본의 제일 높은 채권 금리\n",
        "- Covered interest rate\n",
        "- 수익률 곡선 비교"
      ],
      "metadata": {
        "id": "7Fb8qwRjbk83"
      }
    },
    {
      "cell_type": "markdown",
      "source": [
        "###5.2 독일 DLS 사태 (2021년 ?)\n",
        "\n",
        "- 10년 금리가 (–) 가 안되는 조건의 pay off 구조\n",
        "- Covered Interest Rate\n",
        "-금리의 높고 낮음의 평가 기준 척도\n",
        "> 기준 1 : 어제\n",
        "> 기준 2 : 기준금리(현재, 향후)\n",
        "> 기준 3 : 비슷한 속성의 여타 금리부 자산"
      ],
      "metadata": {
        "id": "OZhb-M9iwADI"
      }
    },
    {
      "cell_type": "markdown",
      "source": [
        "###5.3 유렵 PIGS 사태 / 터키와 아르헨티나의 외환위기\n",
        "* 그리스 / 터키 / 아르헨티나 의 수익률 곡선 역전  \n",
        "> : 가격으로 전환해 본다면 ?\n",
        "* 수익률 곡선의 의미"
      ],
      "metadata": {
        "id": "siacW4m5zoEM"
      }
    },
    {
      "cell_type": "markdown",
      "source": [
        "### 5.4 트럼프 정부의 Liberation Day : 2025년 4월"
      ],
      "metadata": {
        "id": "3CjqLjxbqIRo"
      }
    },
    {
      "cell_type": "markdown",
      "source": [
        "채권-스왑-Repo-CD 트레이딩 : 채권형 헤지펀드의 표준 전략 : 델타 중립 (롱숏), 스프레드 전략, LTCM의 주력 전략 : 25년 4월 3일 사태\n",
        "\n",
        "영국(한국) 보험사들의 유동성 부족 사태 : 2021년 ? : 해외채권/국내채권/국내유동성\n",
        "\n",
        "레고랜드 사태의 교훈 : 발행자의 신용상태 변동은 크레딧 스프레드 변동의 단일한 주요 요인이 아니다. 한전채 사례\n",
        "\n",
        "한국의 주가 변동, 환율 변동, 채권가격 변동 간의 연관성 : 주식과 환율간 연관성은 뚜렷 / 일본은 반대 / 달러화와 채권가격 (주성분 분석)\n",
        "\n",
        "보험사 부채시가평가(IFRS ?) 및 KICS 와 해외채권 투자 간의 연관성\n"
      ],
      "metadata": {
        "id": "zQl1mOgl3HJY"
      }
    }
  ]
}