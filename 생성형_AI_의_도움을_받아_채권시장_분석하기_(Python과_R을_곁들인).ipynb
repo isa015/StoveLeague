{
  "nbformat": 4,
  "nbformat_minor": 0,
  "metadata": {
    "colab": {
      "provenance": [],
      "authorship_tag": "ABX9TyMUcJs2DGFwQnL24f+v0cQw",
      "include_colab_link": true
    },
    "kernelspec": {
      "name": "python3",
      "display_name": "Python 3"
    },
    "language_info": {
      "name": "python"
    }
  },
  "cells": [
    {
      "cell_type": "markdown",
      "metadata": {
        "id": "view-in-github",
        "colab_type": "text"
      },
      "source": [
        "<a href=\"https://colab.research.google.com/github/isa015/StoveLeague/blob/master/%EC%83%9D%EC%84%B1%ED%98%95_AI_%EC%9D%98_%EB%8F%84%EC%9B%80%EC%9D%84_%EB%B0%9B%EC%95%84_%EC%B1%84%EA%B6%8C%EC%8B%9C%EC%9E%A5_%EB%B6%84%EC%84%9D%ED%95%98%EA%B8%B0_(Python%EA%B3%BC_R%EC%9D%84_%EA%B3%81%EB%93%A4%EC%9D%B8).ipynb\" target=\"_parent\"><img src=\"https://colab.research.google.com/assets/colab-badge.svg\" alt=\"Open In Colab\"/></a>"
      ]
    },
    {
      "cell_type": "markdown",
      "source": [
        "# **강의 목표**"
      ],
      "metadata": {
        "id": "gymxesEE-MFp"
      }
    },
    {
      "cell_type": "markdown",
      "source": [
        "##1. 목표로 하는 것\n",
        "*\t기초 수준의 채권시장 분석 방법   \n",
        ">: 채권자산에 대한 이해   \n",
        ">: 채권시장 분석\n",
        "*\tData 분석을 통한 접근 예시\n",
        ">: 생성형 AI의 자문을 활용하여  \n",
        ">: 분석을 위해 사용된 프로그램 언어(Python, R)를 읽을(!) 수 있다\n",
        "\n",
        "##2. 목표로 하지 않는 것\n",
        "*\t프로그램 언어(Python, R)의 사용해서 스스로 개발할 수 있는 능력   \n",
        "\n",
        "*\t금리상품의 가격 산출과 관련한 엄밀한 배경 지식 획득"
      ],
      "metadata": {
        "id": "_YXdqZkD-ZY_"
      }
    },
    {
      "cell_type": "markdown",
      "source": [
        "# **강의 개요**"
      ],
      "metadata": {
        "id": "YpBwZ7wMuEdW"
      }
    },
    {
      "cell_type": "markdown",
      "source": [
        "##1. Data 분석을 위한 준비 (1일)\n",
        "\n",
        "###1.1 학습을 위한 개발 환경 설정하기\n",
        "\n",
        "###1.2 개발 환경 설정\n",
        "\n",
        "*\tPython 설치\n",
        "* Ananconda 설치\n",
        "* 깃허브 계정 만들기 : 코파일럿 가입\n",
        "*\tVS Code 설치\n",
        "*\tJupyter notebook\n"
      ],
      "metadata": {
        "id": "On-yy9L3txkl"
      }
    },
    {
      "cell_type": "markdown",
      "source": [
        "## 2. GitHub Copilot : AI Coding 도우미 :  (1일)\n",
        "\n",
        ">### 2.1 VS Code에서 코파일럿으로 작업하기\n",
        "\n",
        ">### 2.2 코파일럿으로 작업하기 연습\n",
        "\n",
        ">### 2.3 파이썬 코드를 읽기 위해 알아야 할 것들 (1)\n",
        "\n",
        ">### 2.4 파이썬 코드를 읽기 위해 알아야 할 것들 (2)"
      ],
      "metadata": {
        "id": "GqM-GUl9vA9R"
      }
    },
    {
      "cell_type": "markdown",
      "source": [
        "## 3. 채권 ABC (2일)\n",
        "*\t금리부 상품 : 예금, 채권, 자금시장 상품(CD, CP, Repo 등)\n",
        "*\t이자 : 단리와 복리 / 이자기산(compounding) 주기 / 할인\n",
        "* 변동금리채권 (FRN)\n",
        ">: 이자율 스왑 (IRS)\n",
        "* 채권 전문가\n",
        ">: 금리가 아닌 가격으로 환산하여 채권시장 상황을 분석하는 법을 안다  \n",
        ": 채권 금리와 채권 가격간의 관계는 함수 관계가 아니라는 점을 이해한다   \n",
        ": 적용하는 금리 방식에 따라 채권 가격이 달라진다는 점을 이해한다\n",
        "\n",
        "- 금융 맥락에서의 Risk : 예상되는 성과에서 벗어나는 결과가 나타날 가능성에 대한 지표\n",
        "> [Risk 비교 예시]  \n",
        "2층에서 뛰어내릴 때의 사망 Risk < 4층에서 뛰어내릴 때  \n",
        "4층에서 뛰어내릴 때의 사망 Risk  > 63층에서 뛰어내릴 때   \n",
        "\n",
        "###3.1 채권의 가격   \n",
        "\n",
        "####3.1.1 Dirty Price vs. Clean Price   \n",
        "*시간 경과에 따라 가격이 변하는가   \n",
        "*그림 예시   \n",
        "*예시 코드\n",
        "\n",
        "####3.1.2 Duration\n",
        "*그림 예시   \n",
        "*예시 코드\n",
        "\n",
        "####3.1.3 Convexity\n",
        "*장기채권, MBS\n",
        "\n",
        "\n"
      ],
      "metadata": {
        "id": "Za-nH_8PvRlc"
      }
    },
    {
      "cell_type": "markdown",
      "source": [
        "# 4. 채권시장 분석 Tool (2일)"
      ],
      "metadata": {
        "id": "wuvbRP2Hs66G"
      }
    },
    {
      "cell_type": "markdown",
      "source": [
        "## 4.1 금리 수준에 대한 평가\n",
        "> 무엇과 비교해서 ? : Spread 분석  \n",
        ">> Term Spread : 기준금리, 만기별 금리  \n",
        ">> Credit Spread : 신용위험    \n",
        ">> 이종 금리간 Spread : Bond Swap Spread  \n",
        ">> 외국 금리 대비 Spread : Swap Point / Basis Swap  \n",
        ">> 다른 자산 기대수익율 : Equtiy Earnings Yield   \n",
        ">> 경제 상황 : 성장율과 물가, 재정수지, 경상수지   \n",
        ">>>*예시 : 한국 vs. 일본 : CPI와 성장률 : 물가는 더 높은데 금리는 더 낮다\n",
        "\n",
        "\n",
        "### 4.2 채권 운용 전략\n",
        "\n",
        "#### 4.2.1  모멘텀과 리버설\n",
        "\n",
        "\n",
        "## 4.3 채권 금리 예측\n",
        ">### 4.2.1 금리 상황에 대한 분석\n",
        ">>: 수익률 곡선 분석\n",
        ">>: Level, Slope, Curverture  \n",
        ">>> * FICC (Fixed Income, Currency, Commodity)를 하나로 묶어주는 공통점  \n",
        ">>> * 주성분분석(Principla Component Analysis)   \n",
        "\n",
        ">>: 수익률 곡선 모양에 대한 여러 해석들\n",
        "\n",
        ">>: 선도금리 (Forward Rate)   \n",
        "\n",
        ">### 4.2.2 금리 방향을 예측해 보려는 노력들   \n",
        "* HMM을 활용한 국면 판단 사례   \n",
        "* 모멘텀과 리버설"
      ],
      "metadata": {
        "id": "zbiM0QZd4H4v"
      }
    },
    {
      "cell_type": "markdown",
      "source": [
        "#5.사례를 통한 채권시장 분석 (3일)"
      ],
      "metadata": {
        "id": "hzp9OY7NvrdT"
      }
    },
    {
      "cell_type": "markdown",
      "source": [
        "###5.1 Covered interest rate (1) : 제로 금리 일본의 제일 높은 채권 금리\n",
        "* 수익률 곡선 비교 : 일본, 한국, 미국, 브라질"
      ],
      "metadata": {
        "id": "7Fb8qwRjbk83"
      }
    },
    {
      "cell_type": "markdown",
      "source": [
        "###5.2 Covered interest rate (2) : 독일 Bund DLS 사태 (2021년 ?)\n",
        "* Bund 10년 금리가 (–) 가 안되면 수익이 발생하는 pay off 구조\n",
        "- 기관 투자자들은 독일채권을 사고 있었다\n"
      ],
      "metadata": {
        "id": "OZhb-M9iwADI"
      }
    },
    {
      "cell_type": "markdown",
      "source": [
        "###5.3 수익률 곡선에 대한 다른 해석 : 위험한 나라들의 수익률 곡선\n",
        "- 유럽 PIGS 사태 / 터키와 아르헨티나 외환위기\n",
        "* 그리스 / 터키 / 아르헨티나 의 수익률 곡선 역전  \n",
        "> : 가격으로 전환해 본다면 ? --> 모두 같은 가격 !! 왜 ?\n"
      ],
      "metadata": {
        "id": "siacW4m5zoEM"
      }
    },
    {
      "cell_type": "markdown",
      "source": [
        "###5.4 채권형 헤지펀드의 표준 전략 : LTCM 파산 사태    \n",
        "\n",
        "* 채권-스왑-Repo-CD 트레이딩\n",
        "* 델타 중립 (롱숏), 스프레드 전략 : 숏 감마 속성\n",
        "* 트럼프의 리버레이션 데이 : 채권-스왑, 국채-크레딧\n"
      ],
      "metadata": {
        "id": "zQl1mOgl3HJY"
      }
    },
    {
      "cell_type": "markdown",
      "source": [
        "### 5.5 환율과 채권간의 연관 (1)  : 영국(한국) 보험사들의 2021년 유동성 부족 사태\n",
        "* 해외채권/국내채권/국내유동성/재정적자\n",
        "* 해외채권 투자의 어려움\n"
      ],
      "metadata": {
        "id": "2WPGKXHR0ymF"
      }
    },
    {
      "cell_type": "markdown",
      "source": [
        "### 5.6 환율과 채권간의 연관 (2)\n",
        "* 트럼프 해방의 날 Event : 달러화와 미국 채권   \n",
        "* [Stephen Miran 보고서]   \n",
        "> 관세를 통한 무역수지 적자 축소 / 달러 약세 유도 / 그러면서도 기축통화 지위 유지\n",
        "   \n",
        "> [공식 파괴 1] USD 약세 --> UST 강세\n",
        "\n",
        ">>*금융시계열들에 대한 주성분 분석  "
      ],
      "metadata": {
        "id": "4UHGjmjZ1g8t"
      }
    },
    {
      "cell_type": "markdown",
      "source": [
        "Butterfly 전략 : Convexity Selling : Pass through MBS 특성"
      ],
      "metadata": {
        "id": "fUn-eqrj2eO4"
      }
    },
    {
      "cell_type": "markdown",
      "source": [
        "### 5.4 트럼프 정부 관세부과 : 2025년 4월에 생긴 일 (2)\n",
        "\n",
        "> [공식 파괴 2] KRW 약세 --> KOSPI 강세"
      ],
      "metadata": {
        "id": "3CjqLjxbqIRo"
      }
    },
    {
      "cell_type": "markdown",
      "source": [
        "\n",
        "레고랜드 사태의 교훈 : 발행자의 신용상태 변동은 크레딧 스프레드 변동의 단일한 주요 요인이 아니다. 한전채 사례\n",
        "\n",
        "한국의 주가 변동, 환율 변동, 채권가격 변동 간의 연관성 : 주식과 환율간 연관성은 뚜렷 / 일본은 반대 / 달러화와 채권가격 (주성분 분석)\n",
        "\n",
        "보험사 부채시가평가(IFRS ?) 및 KICS 와 해외채권 투자 간의 연관성\n",
        "\n"
      ],
      "metadata": {
        "id": "O9aFLoEyupWf"
      }
    },
    {
      "cell_type": "code",
      "source": [],
      "metadata": {
        "id": "Kd2SBPYRuozI"
      },
      "execution_count": null,
      "outputs": []
    }
  ]
}