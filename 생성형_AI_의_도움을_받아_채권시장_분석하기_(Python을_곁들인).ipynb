{
  "nbformat": 4,
  "nbformat_minor": 0,
  "metadata": {
    "colab": {
      "provenance": [],
      "authorship_tag": "ABX9TyOqWklPFMUzGSCJLbD2wNCj",
      "include_colab_link": true
    },
    "kernelspec": {
      "name": "python3",
      "display_name": "Python 3"
    },
    "language_info": {
      "name": "python"
    }
  },
  "cells": [
    {
      "cell_type": "markdown",
      "metadata": {
        "id": "view-in-github",
        "colab_type": "text"
      },
      "source": [
        "<a href=\"https://colab.research.google.com/github/isa015/StoveLeague/blob/master/%EC%83%9D%EC%84%B1%ED%98%95_AI_%EC%9D%98_%EB%8F%84%EC%9B%80%EC%9D%84_%EB%B0%9B%EC%95%84_%EC%B1%84%EA%B6%8C%EC%8B%9C%EC%9E%A5_%EB%B6%84%EC%84%9D%ED%95%98%EA%B8%B0_(Python%EC%9D%84_%EA%B3%81%EB%93%A4%EC%9D%B8).ipynb\" target=\"_parent\"><img src=\"https://colab.research.google.com/assets/colab-badge.svg\" alt=\"Open In Colab\"/></a>"
      ]
    },
    {
      "cell_type": "markdown",
      "source": [
        "# **강의 목표**"
      ],
      "metadata": {
        "id": "gymxesEE-MFp"
      }
    },
    {
      "cell_type": "markdown",
      "source": [
        "##1. 목표로 하는 것\n",
        "*\t기초 수준의 채권시장 분석 방법   \n",
        "  * 채권에 대한 이해   \n",
        "  * 채권시장 분석\n",
        "\n",
        "*\tData 분석을 통한 접근 예시\n",
        "  * 생성형 AI의 자문을 활용하여  \n",
        "  * 분석을 위해 사용된 프로그램 언어(Python)를 **읽을**(!) 수 있다\n",
        "\n",
        "\n",
        "##2. 목표로 하지 않는 것\n",
        "\n",
        "*\t프로그램 언어(Python, R)의 사용해서 스스로 개발할 수 있는 능력   \n",
        "\n",
        "*\t금리상품의 가격 산출과 관련한 엄밀한 배경 지식 획득"
      ],
      "metadata": {
        "id": "_YXdqZkD-ZY_"
      }
    },
    {
      "cell_type": "markdown",
      "source": [
        "# **강의 개요**"
      ],
      "metadata": {
        "id": "YpBwZ7wMuEdW"
      }
    },
    {
      "cell_type": "markdown",
      "source": [
        "# 1. Data 분석을 위한 준비\n",
        "\n",
        "> ## 1.1 학습을 위한 개발 환경 설정하기\n",
        "\n",
        "> ## 1.2 개발 환경 설정\n",
        "\n",
        ">*\tPython 설치\n",
        "* Ananconda 설치\n",
        "* 깃허브 계정 만들기 : 코파일럿 가입\n",
        "*\tVS Code 설치\n",
        "*\tJupyter notebook\n"
      ],
      "metadata": {
        "id": "On-yy9L3txkl"
      }
    },
    {
      "cell_type": "markdown",
      "source": [
        "# 2. GitHub Copilot : AI Coding 도우미\n",
        "\n",
        ">### 2.1 깃허브(GitHub) 계정 만들기\n",
        "\n",
        ">### 2.2 VS Code에서 코파일럿으로 작업하기\n",
        "\n",
        ">### 2.3 코파일럿으로 작업하기 연습\n",
        "\n",
        ">### 2.4 파이썬 코드를 읽기 위해 알아야 할 것들 (1)\n",
        "\n",
        ">### 2.5 파이썬 코드를 읽기 위해 알아야 할 것들 (2)"
      ],
      "metadata": {
        "id": "GqM-GUl9vA9R"
      }
    },
    {
      "cell_type": "markdown",
      "source": [
        "# 3. 채권 ABC\n",
        "\n",
        "> ## 3.1 금리형 상품들\n",
        "\n",
        ">> ## 3.1.1 채권 이외의 금리부 상품들   \n",
        "\n",
        ">> ## 3.1.2 이자부 상품간 금리 비교를 위해 알아두어야 할 것\n",
        "\n",
        ">> ## 3.1.3 채권(債券, Fixed income Securities)   (1)\n",
        "\n",
        ">> ## 3.1.4 채권(債券, Fixed income Securities)   (2)\n",
        "\n",
        "\n",
        "\n",
        "> ## 3.2 수익률 곡선 (Yield Curve)   \n",
        "\n",
        ">> ## 3.2.1 개념\n",
        "\n",
        ">> ## 3.2.2 수익률 곡선의 모양\n",
        "\n",
        ">> ## 3.2.3 수익률 곡선의 모양에 대한 이론들\n",
        "\n",
        ">> ## 3.2.4 수익률 곡선 역전(Yield Curve Inversion)에 대한 해석\n",
        "\n",
        ">> ## 3.2.5 선도금리 (Forward Rate)\n",
        "\n",
        ">> ## 3.2.6 수익률 곡선에 대한 주성분 분석\n",
        "\n",
        "\n",
        "> # 3.3 채권의 가격\n",
        "\n",
        ">> ## 3.3.1 채권 가격 산출 공식\n",
        "\n",
        ">> ## 3.3.2 채권 가격 움직임의 특성   \n",
        "\n",
        "\n",
        "> # 3.4 듀레이션 (Duration)   \n",
        "\n",
        "\n",
        "> # 3.5 컨벡서티(Convexity)\n",
        "\n",
        "\n",
        "> # 3.6 채권 포트폴리오의 예상 수익률과 리스크\n",
        "\n",
        "\n",
        "> # 3.7 채권 파생상품\n",
        "\n",
        ">> ## 3.7.1 국채 선물   \n",
        "\n",
        ">> ## 3.7.2 이자율 스왑 (Interest Rate Swap : IRS)   \n",
        "\n",
        "\n",
        "> # 3.8 채권 FX 파생상품\n",
        "\n",
        ">> ## 3.5.1 통화 스왑 (CCS : Cross Currency Interest Rate Swap)   \n",
        "\n",
        ">> ## 3.5.2 FX 스왑\n",
        "\n",
        ">> ## 3.5.3 Covered Interest Rate Parity\n"
      ],
      "metadata": {
        "id": "Za-nH_8PvRlc"
      }
    },
    {
      "cell_type": "markdown",
      "source": [
        "# 4. 채권시장 분석\n",
        "\n",
        "> ## 4.1 채권 포트폴리오 투자 전략\n",
        "\n",
        ">> ## 4.1.1 예측에 기반한 트레이딩 : 마켓 타이밍\n",
        "\n",
        ">> ## 4.1.2 시장 구조에 기반한 트레이딩`\n",
        "\n",
        "\n",
        "> ## 4.2 채권시장 분석\n",
        "\n",
        ">> ## 4.2.1 Spread 분석\n",
        "\n",
        ">> ## 4.2.2 펀더멘털(Fundamental) 분석"
      ],
      "metadata": {
        "id": "wuvbRP2Hs66G"
      }
    },
    {
      "cell_type": "markdown",
      "source": [
        "# 5.사례를 통한 채권시장 분석\n",
        "\n",
        "\n",
        "> ## 5.1 제로 금리 일본의 채권 금리가 가장 높다 : Covered Interest Rate (1)\n",
        "\n",
        "> ## 5.2 독일 Bund DLS 사례 : Covered Interest Rate (2)\n",
        "\n",
        "> ## 5.3 위험한 나라들의 수익률 곡선 : 수익률 곡선에 대한 다른 해석\n",
        "\n",
        "> ## 5.4 LTCM 청산 : Long-Short 전략의 Short Gamma 속성    \n",
        "\n",
        "> ## 5.5 트럼프 Liberation Day (2025년 4월 2일) : 변동성 생성자\n",
        "\n",
        "> ## 5.6 레고랜드 사태 : 크레딧 스프레드 변동 요인\n",
        "\n",
        "> ## 5.7 영국 연기금과 한국 보험사들의 2021년 유동성 부족 : 환율과 채권, 유동성\n",
        "\n",
        "> ## 5.8 보험사 부채시가평가, KICS가 KRW 장기채권 금리에 미치는 영향 : 제도와 채권금리\n",
        "\n",
        "\n",
        "\n",
        "> ## 5.9 미국의 최초 신용등급 강등 때 있었던 일 : 국채와 Repo의 중요성\n",
        "\n",
        "> ## 5.10 실리콘 밸리 은행 파산 : 사태 수습을 위한 정택당국의 대응   \n",
        "\n",
        "> ## 5.11 최근 6개월과 가장 유사한 기간은 언제인가 : 주성분 분석의 쓸모\n",
        "\n",
        "\n",
        "\n",
        "\n",
        "\n",
        "\n"
      ],
      "metadata": {
        "id": "hzp9OY7NvrdT"
      }
    }
  ]
}